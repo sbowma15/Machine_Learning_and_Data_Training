{
  "nbformat": 4,
  "nbformat_minor": 0,
  "metadata": {
    "interpreter": {
      "hash": "82f7237e8744fa450af06f16fd99e4f987c4ded027c30bb82e91e6fd7991cebc"
    },
    "kernelspec": {
      "name": "python3",
      "display_name": "Python 3.8.10 64-bit ('base': conda)"
    },
    "language_info": {
      "codemirror_mode": {
        "name": "ipython",
        "version": 3
      },
      "file_extension": ".py",
      "mimetype": "text/x-python",
      "name": "python",
      "nbconvert_exporter": "python",
      "pygments_lexer": "ipython3",
      "version": "3.8.10"
    },
    "orig_nbformat": 4,
    "colab": {
      "provenance": [],
      "include_colab_link": true
    }
  },
  "cells": [
    {
      "cell_type": "markdown",
      "metadata": {
        "id": "view-in-github",
        "colab_type": "text"
      },
      "source": [
        "<a href=\"https://colab.research.google.com/github/sbowma15/Machine_Learning_and_Data_Training/blob/main/Machine_Learning_and_Data_Training.ipynb\" target=\"_parent\"><img src=\"https://colab.research.google.com/assets/colab-badge.svg\" alt=\"Open In Colab\"/></a>"
      ]
    },
    {
      "cell_type": "markdown",
      "metadata": {
        "id": "gNl__FziQe4O"
      },
      "source": [
        "# CS 39AA - Traditional ML\n",
        "\n",
        "\n",
        "Everything that we will look at in this course is a form of supervised learning (even though some of the NLP models we will look at it don't appear to be at first glance).\n",
        "\n",
        "As we already discussed, supervised learning can roughly be split into two types of tasks, either regression or classification. We'll look at these each in turn now.\n",
        "\n",
        "## I. Regression\n",
        "\n",
        "Although the title may immediately evoke the thought of a conventional least squares regression model, the term regression here is a more general one that simply means to say that the target/outcome is lies on a continuum. That is, the targets we will try to predict or estimate are not binary nor discrete in nature.\n",
        "\n",
        "### Step 1. Load and explore the data\n",
        "As an example, let's look at the following data on housing prices. The target/outcome that we will want to later on predict is the house price itself. Let's load the data and start to explore.  "
      ]
    },
    {
      "cell_type": "code",
      "metadata": {
        "id": "z5H_lvdcQe4V"
      },
      "source": [
        "#Importing proper packages as thier common nomenclatures\n",
        "import pandas as pd\n",
        "import numpy as np\n",
        "\n",
        "#Takes in CSV file as \"DATA_URL\"\n",
        "DATA_URL = \"https://raw.githubusercontent.com/sgeinitz/cs39aa_data/main/houseprices.csv\"\n",
        "\n",
        "#pandas package reads CSV as \"Train_df\"\n",
        "train_df = pd.read_csv(DATA_URL)"
      ],
      "execution_count": null,
      "outputs": []
    },
    {
      "cell_type": "markdown",
      "metadata": {
        "id": "JFXl_g94Qe4X"
      },
      "source": [
        "The pandas library has some useful functionality for managing datasets. The basic data type used is a pandas DataFrame, which we can confirm with the following."
      ]
    },
    {
      "cell_type": "code",
      "metadata": {
        "id": "JqKyysrfQe4Y",
        "outputId": "10e0e41b-bfd7-4959-bf72-a1f9fcd4e0b0",
        "colab": {
          "base_uri": "https://localhost:8080/"
        }
      },
      "source": [
        "#if the next line is commented out, the output is \"pandas.core.frame.Dataframe\"\n",
        "#Also, \"type(train_df.dtypes)\" ran alone; Output = \"pandas.core.series.series\"\n",
        "#The output with \"type(train_df.dtypes)\" along with the below line uncommented -\n",
        "#- still produces the same output as the two original, unaltered codes ran -\n",
        "#- togeher, which is the same output as the second original line, -\n",
        "#-\"train_df.dtypes\" ran by itself\n",
        "type(train_df.dtypes)\n",
        "\n",
        "#with the above line commented out, the output is the same as if neither were -\n",
        "# - were commented out.\n",
        "train_df.dtypes\n",
        "\n",
        "#side note not sure if the output is this way because im using collab? I will be\n",
        "#- looking into this. ive used pandas, numpy matplotlib etc in the past and ive-\n",
        "#- noticed some of the imports can be slightly different to use on collab; -\n",
        "#- for instance in CV with Dr. Fieng I found out the RGB is backwards and needs-\n",
        "#- to be corrected."
      ],
      "execution_count": null,
      "outputs": [
        {
          "output_type": "execute_result",
          "data": {
            "text/plain": [
              "Id                 int64\n",
              "MSSubClass         int64\n",
              "MSZoning          object\n",
              "LotFrontage      float64\n",
              "LotArea            int64\n",
              "                  ...   \n",
              "MoSold             int64\n",
              "YrSold             int64\n",
              "SaleType          object\n",
              "SaleCondition     object\n",
              "SalePrice          int64\n",
              "Length: 81, dtype: object"
            ]
          },
          "metadata": {},
          "execution_count": 35
        }
      ]
    },
    {
      "cell_type": "markdown",
      "metadata": {
        "id": "EDCQabL6Qe4Y"
      },
      "source": [
        "Recall that Python is very much follows an object-oriented programming paradigm, and pandas is no exception to that. A pandas DataFrame has both attributes/fields as well as methods that can be called. One attribute/field that is useful to look is `shape`, which tells us how many rows and columns a DataFrame has."
      ]
    },
    {
      "cell_type": "code",
      "metadata": {
        "id": "dol0p5X5Qe4Y",
        "outputId": "d926e4e0-5d8f-4739-b5f2-2820708e3225",
        "colab": {
          "base_uri": "https://localhost:8080/"
        }
      },
      "source": [
        "# 'shape' of a DataFrame is it's number of rows and columns\n",
        "#this pretty much does what we expect. This line prints the shape with a label\n",
        "#that lets us know what is is\n",
        "print(\"train_df.shape: \", train_df.shape)\n",
        "\n",
        "# more specifically...\n",
        "#concatonation using \"print(f\"...\"..\"shape\" of rows starting at 0, while-\n",
        "#- the \"shape\" of the columns start at 1 give the count for both the rows and -\n",
        "#- columns so the output is more user friendly. Excersize meant to demonstrate-\n",
        "#- ability to begin navigating the data from the .csv\n",
        "print(f\"train_df has {train_df.shape[0]} rows and {train_df.shape[1]} columns\")"
      ],
      "execution_count": null,
      "outputs": [
        {
          "output_type": "stream",
          "name": "stdout",
          "text": [
            "train_df.shape:  (1460, 81)\n",
            "train_df has 1460 rows and 81 columns\n"
          ]
        }
      ]
    },
    {
      "cell_type": "markdown",
      "metadata": {
        "id": "k_U_vQFXQe4Z"
      },
      "source": [
        "To see what all of the columns names are we can also print out the `columns` attribute/field of the DataFrame object."
      ]
    },
    {
      "cell_type": "code",
      "metadata": {
        "id": "4cel66meQe4b",
        "outputId": "5cc42b41-c2c1-4ea6-ff21-141e7191f3a7",
        "colab": {
          "base_uri": "https://localhost:8080/"
        }
      },
      "source": [
        "train_df.columns"
      ],
      "execution_count": null,
      "outputs": [
        {
          "output_type": "execute_result",
          "data": {
            "text/plain": [
              "Index(['Id', 'MSSubClass', 'MSZoning', 'LotFrontage', 'LotArea', 'Street',\n",
              "       'Alley', 'LotShape', 'LandContour', 'Utilities', 'LotConfig',\n",
              "       'LandSlope', 'Neighborhood', 'Condition1', 'Condition2', 'BldgType',\n",
              "       'HouseStyle', 'OverallQual', 'OverallCond', 'YearBuilt', 'YearRemodAdd',\n",
              "       'RoofStyle', 'RoofMatl', 'Exterior1st', 'Exterior2nd', 'MasVnrType',\n",
              "       'MasVnrArea', 'ExterQual', 'ExterCond', 'Foundation', 'BsmtQual',\n",
              "       'BsmtCond', 'BsmtExposure', 'BsmtFinType1', 'BsmtFinSF1',\n",
              "       'BsmtFinType2', 'BsmtFinSF2', 'BsmtUnfSF', 'TotalBsmtSF', 'Heating',\n",
              "       'HeatingQC', 'CentralAir', 'Electrical', '1stFlrSF', '2ndFlrSF',\n",
              "       'LowQualFinSF', 'GrLivArea', 'BsmtFullBath', 'BsmtHalfBath', 'FullBath',\n",
              "       'HalfBath', 'BedroomAbvGr', 'KitchenAbvGr', 'KitchenQual',\n",
              "       'TotRmsAbvGrd', 'Functional', 'Fireplaces', 'FireplaceQu', 'GarageType',\n",
              "       'GarageYrBlt', 'GarageFinish', 'GarageCars', 'GarageArea', 'GarageQual',\n",
              "       'GarageCond', 'PavedDrive', 'WoodDeckSF', 'OpenPorchSF',\n",
              "       'EnclosedPorch', '3SsnPorch', 'ScreenPorch', 'PoolArea', 'PoolQC',\n",
              "       'Fence', 'MiscFeature', 'MiscVal', 'MoSold', 'YrSold', 'SaleType',\n",
              "       'SaleCondition', 'SalePrice'],\n",
              "      dtype='object')"
            ]
          },
          "metadata": {},
          "execution_count": 5
        }
      ]
    },
    {
      "cell_type": "markdown",
      "metadata": {
        "id": "o7yQOu9rQe4b"
      },
      "source": [
        "Let's continue exploring the housing prices dataset using the pandas `describe()` function/method. This will summarize each column using common descriptive statistics (i.e. mean, stdev, etc.)."
      ]
    },
    {
      "cell_type": "code",
      "metadata": {
        "id": "TM7huDbKQe4c",
        "outputId": "2e2a41a3-d041-4957-b7d2-0e86dd885284",
        "colab": {
          "base_uri": "https://localhost:8080/",
          "height": 319
        }
      },
      "source": [
        "train_df.describe()"
      ],
      "execution_count": null,
      "outputs": [
        {
          "output_type": "execute_result",
          "data": {
            "text/html": [
              "<div>\n",
              "<style scoped>\n",
              "    .dataframe tbody tr th:only-of-type {\n",
              "        vertical-align: middle;\n",
              "    }\n",
              "\n",
              "    .dataframe tbody tr th {\n",
              "        vertical-align: top;\n",
              "    }\n",
              "\n",
              "    .dataframe thead th {\n",
              "        text-align: right;\n",
              "    }\n",
              "</style>\n",
              "<table border=\"1\" class=\"dataframe\">\n",
              "  <thead>\n",
              "    <tr style=\"text-align: right;\">\n",
              "      <th></th>\n",
              "      <th>Id</th>\n",
              "      <th>MSSubClass</th>\n",
              "      <th>LotFrontage</th>\n",
              "      <th>LotArea</th>\n",
              "      <th>OverallQual</th>\n",
              "      <th>OverallCond</th>\n",
              "      <th>YearBuilt</th>\n",
              "      <th>YearRemodAdd</th>\n",
              "      <th>MasVnrArea</th>\n",
              "      <th>BsmtFinSF1</th>\n",
              "      <th>BsmtFinSF2</th>\n",
              "      <th>BsmtUnfSF</th>\n",
              "      <th>TotalBsmtSF</th>\n",
              "      <th>1stFlrSF</th>\n",
              "      <th>2ndFlrSF</th>\n",
              "      <th>LowQualFinSF</th>\n",
              "      <th>GrLivArea</th>\n",
              "      <th>BsmtFullBath</th>\n",
              "      <th>BsmtHalfBath</th>\n",
              "      <th>FullBath</th>\n",
              "      <th>HalfBath</th>\n",
              "      <th>BedroomAbvGr</th>\n",
              "      <th>KitchenAbvGr</th>\n",
              "      <th>TotRmsAbvGrd</th>\n",
              "      <th>Fireplaces</th>\n",
              "      <th>GarageYrBlt</th>\n",
              "      <th>GarageCars</th>\n",
              "      <th>GarageArea</th>\n",
              "      <th>WoodDeckSF</th>\n",
              "      <th>OpenPorchSF</th>\n",
              "      <th>EnclosedPorch</th>\n",
              "      <th>3SsnPorch</th>\n",
              "      <th>ScreenPorch</th>\n",
              "      <th>PoolArea</th>\n",
              "      <th>MiscVal</th>\n",
              "      <th>MoSold</th>\n",
              "      <th>YrSold</th>\n",
              "      <th>SalePrice</th>\n",
              "    </tr>\n",
              "  </thead>\n",
              "  <tbody>\n",
              "    <tr>\n",
              "      <th>count</th>\n",
              "      <td>1460.000000</td>\n",
              "      <td>1460.000000</td>\n",
              "      <td>1201.000000</td>\n",
              "      <td>1460.000000</td>\n",
              "      <td>1460.000000</td>\n",
              "      <td>1460.000000</td>\n",
              "      <td>1460.000000</td>\n",
              "      <td>1460.000000</td>\n",
              "      <td>1452.000000</td>\n",
              "      <td>1460.000000</td>\n",
              "      <td>1460.000000</td>\n",
              "      <td>1460.000000</td>\n",
              "      <td>1460.000000</td>\n",
              "      <td>1460.000000</td>\n",
              "      <td>1460.000000</td>\n",
              "      <td>1460.000000</td>\n",
              "      <td>1460.000000</td>\n",
              "      <td>1460.000000</td>\n",
              "      <td>1460.000000</td>\n",
              "      <td>1460.000000</td>\n",
              "      <td>1460.000000</td>\n",
              "      <td>1460.000000</td>\n",
              "      <td>1460.000000</td>\n",
              "      <td>1460.000000</td>\n",
              "      <td>1460.000000</td>\n",
              "      <td>1379.000000</td>\n",
              "      <td>1460.000000</td>\n",
              "      <td>1460.000000</td>\n",
              "      <td>1460.000000</td>\n",
              "      <td>1460.000000</td>\n",
              "      <td>1460.000000</td>\n",
              "      <td>1460.000000</td>\n",
              "      <td>1460.000000</td>\n",
              "      <td>1460.000000</td>\n",
              "      <td>1460.000000</td>\n",
              "      <td>1460.000000</td>\n",
              "      <td>1460.000000</td>\n",
              "      <td>1460.000000</td>\n",
              "    </tr>\n",
              "    <tr>\n",
              "      <th>mean</th>\n",
              "      <td>730.500000</td>\n",
              "      <td>56.897260</td>\n",
              "      <td>70.049958</td>\n",
              "      <td>10516.828082</td>\n",
              "      <td>6.099315</td>\n",
              "      <td>5.575342</td>\n",
              "      <td>1971.267808</td>\n",
              "      <td>1984.865753</td>\n",
              "      <td>103.685262</td>\n",
              "      <td>443.639726</td>\n",
              "      <td>46.549315</td>\n",
              "      <td>567.240411</td>\n",
              "      <td>1057.429452</td>\n",
              "      <td>1162.626712</td>\n",
              "      <td>346.992466</td>\n",
              "      <td>5.844521</td>\n",
              "      <td>1515.463699</td>\n",
              "      <td>0.425342</td>\n",
              "      <td>0.057534</td>\n",
              "      <td>1.565068</td>\n",
              "      <td>0.382877</td>\n",
              "      <td>2.866438</td>\n",
              "      <td>1.046575</td>\n",
              "      <td>6.517808</td>\n",
              "      <td>0.613014</td>\n",
              "      <td>1978.506164</td>\n",
              "      <td>1.767123</td>\n",
              "      <td>472.980137</td>\n",
              "      <td>94.244521</td>\n",
              "      <td>46.660274</td>\n",
              "      <td>21.954110</td>\n",
              "      <td>3.409589</td>\n",
              "      <td>15.060959</td>\n",
              "      <td>2.758904</td>\n",
              "      <td>43.489041</td>\n",
              "      <td>6.321918</td>\n",
              "      <td>2007.815753</td>\n",
              "      <td>180921.195890</td>\n",
              "    </tr>\n",
              "    <tr>\n",
              "      <th>std</th>\n",
              "      <td>421.610009</td>\n",
              "      <td>42.300571</td>\n",
              "      <td>24.284752</td>\n",
              "      <td>9981.264932</td>\n",
              "      <td>1.382997</td>\n",
              "      <td>1.112799</td>\n",
              "      <td>30.202904</td>\n",
              "      <td>20.645407</td>\n",
              "      <td>181.066207</td>\n",
              "      <td>456.098091</td>\n",
              "      <td>161.319273</td>\n",
              "      <td>441.866955</td>\n",
              "      <td>438.705324</td>\n",
              "      <td>386.587738</td>\n",
              "      <td>436.528436</td>\n",
              "      <td>48.623081</td>\n",
              "      <td>525.480383</td>\n",
              "      <td>0.518911</td>\n",
              "      <td>0.238753</td>\n",
              "      <td>0.550916</td>\n",
              "      <td>0.502885</td>\n",
              "      <td>0.815778</td>\n",
              "      <td>0.220338</td>\n",
              "      <td>1.625393</td>\n",
              "      <td>0.644666</td>\n",
              "      <td>24.689725</td>\n",
              "      <td>0.747315</td>\n",
              "      <td>213.804841</td>\n",
              "      <td>125.338794</td>\n",
              "      <td>66.256028</td>\n",
              "      <td>61.119149</td>\n",
              "      <td>29.317331</td>\n",
              "      <td>55.757415</td>\n",
              "      <td>40.177307</td>\n",
              "      <td>496.123024</td>\n",
              "      <td>2.703626</td>\n",
              "      <td>1.328095</td>\n",
              "      <td>79442.502883</td>\n",
              "    </tr>\n",
              "    <tr>\n",
              "      <th>min</th>\n",
              "      <td>1.000000</td>\n",
              "      <td>20.000000</td>\n",
              "      <td>21.000000</td>\n",
              "      <td>1300.000000</td>\n",
              "      <td>1.000000</td>\n",
              "      <td>1.000000</td>\n",
              "      <td>1872.000000</td>\n",
              "      <td>1950.000000</td>\n",
              "      <td>0.000000</td>\n",
              "      <td>0.000000</td>\n",
              "      <td>0.000000</td>\n",
              "      <td>0.000000</td>\n",
              "      <td>0.000000</td>\n",
              "      <td>334.000000</td>\n",
              "      <td>0.000000</td>\n",
              "      <td>0.000000</td>\n",
              "      <td>334.000000</td>\n",
              "      <td>0.000000</td>\n",
              "      <td>0.000000</td>\n",
              "      <td>0.000000</td>\n",
              "      <td>0.000000</td>\n",
              "      <td>0.000000</td>\n",
              "      <td>0.000000</td>\n",
              "      <td>2.000000</td>\n",
              "      <td>0.000000</td>\n",
              "      <td>1900.000000</td>\n",
              "      <td>0.000000</td>\n",
              "      <td>0.000000</td>\n",
              "      <td>0.000000</td>\n",
              "      <td>0.000000</td>\n",
              "      <td>0.000000</td>\n",
              "      <td>0.000000</td>\n",
              "      <td>0.000000</td>\n",
              "      <td>0.000000</td>\n",
              "      <td>0.000000</td>\n",
              "      <td>1.000000</td>\n",
              "      <td>2006.000000</td>\n",
              "      <td>34900.000000</td>\n",
              "    </tr>\n",
              "    <tr>\n",
              "      <th>25%</th>\n",
              "      <td>365.750000</td>\n",
              "      <td>20.000000</td>\n",
              "      <td>59.000000</td>\n",
              "      <td>7553.500000</td>\n",
              "      <td>5.000000</td>\n",
              "      <td>5.000000</td>\n",
              "      <td>1954.000000</td>\n",
              "      <td>1967.000000</td>\n",
              "      <td>0.000000</td>\n",
              "      <td>0.000000</td>\n",
              "      <td>0.000000</td>\n",
              "      <td>223.000000</td>\n",
              "      <td>795.750000</td>\n",
              "      <td>882.000000</td>\n",
              "      <td>0.000000</td>\n",
              "      <td>0.000000</td>\n",
              "      <td>1129.500000</td>\n",
              "      <td>0.000000</td>\n",
              "      <td>0.000000</td>\n",
              "      <td>1.000000</td>\n",
              "      <td>0.000000</td>\n",
              "      <td>2.000000</td>\n",
              "      <td>1.000000</td>\n",
              "      <td>5.000000</td>\n",
              "      <td>0.000000</td>\n",
              "      <td>1961.000000</td>\n",
              "      <td>1.000000</td>\n",
              "      <td>334.500000</td>\n",
              "      <td>0.000000</td>\n",
              "      <td>0.000000</td>\n",
              "      <td>0.000000</td>\n",
              "      <td>0.000000</td>\n",
              "      <td>0.000000</td>\n",
              "      <td>0.000000</td>\n",
              "      <td>0.000000</td>\n",
              "      <td>5.000000</td>\n",
              "      <td>2007.000000</td>\n",
              "      <td>129975.000000</td>\n",
              "    </tr>\n",
              "    <tr>\n",
              "      <th>50%</th>\n",
              "      <td>730.500000</td>\n",
              "      <td>50.000000</td>\n",
              "      <td>69.000000</td>\n",
              "      <td>9478.500000</td>\n",
              "      <td>6.000000</td>\n",
              "      <td>5.000000</td>\n",
              "      <td>1973.000000</td>\n",
              "      <td>1994.000000</td>\n",
              "      <td>0.000000</td>\n",
              "      <td>383.500000</td>\n",
              "      <td>0.000000</td>\n",
              "      <td>477.500000</td>\n",
              "      <td>991.500000</td>\n",
              "      <td>1087.000000</td>\n",
              "      <td>0.000000</td>\n",
              "      <td>0.000000</td>\n",
              "      <td>1464.000000</td>\n",
              "      <td>0.000000</td>\n",
              "      <td>0.000000</td>\n",
              "      <td>2.000000</td>\n",
              "      <td>0.000000</td>\n",
              "      <td>3.000000</td>\n",
              "      <td>1.000000</td>\n",
              "      <td>6.000000</td>\n",
              "      <td>1.000000</td>\n",
              "      <td>1980.000000</td>\n",
              "      <td>2.000000</td>\n",
              "      <td>480.000000</td>\n",
              "      <td>0.000000</td>\n",
              "      <td>25.000000</td>\n",
              "      <td>0.000000</td>\n",
              "      <td>0.000000</td>\n",
              "      <td>0.000000</td>\n",
              "      <td>0.000000</td>\n",
              "      <td>0.000000</td>\n",
              "      <td>6.000000</td>\n",
              "      <td>2008.000000</td>\n",
              "      <td>163000.000000</td>\n",
              "    </tr>\n",
              "    <tr>\n",
              "      <th>75%</th>\n",
              "      <td>1095.250000</td>\n",
              "      <td>70.000000</td>\n",
              "      <td>80.000000</td>\n",
              "      <td>11601.500000</td>\n",
              "      <td>7.000000</td>\n",
              "      <td>6.000000</td>\n",
              "      <td>2000.000000</td>\n",
              "      <td>2004.000000</td>\n",
              "      <td>166.000000</td>\n",
              "      <td>712.250000</td>\n",
              "      <td>0.000000</td>\n",
              "      <td>808.000000</td>\n",
              "      <td>1298.250000</td>\n",
              "      <td>1391.250000</td>\n",
              "      <td>728.000000</td>\n",
              "      <td>0.000000</td>\n",
              "      <td>1776.750000</td>\n",
              "      <td>1.000000</td>\n",
              "      <td>0.000000</td>\n",
              "      <td>2.000000</td>\n",
              "      <td>1.000000</td>\n",
              "      <td>3.000000</td>\n",
              "      <td>1.000000</td>\n",
              "      <td>7.000000</td>\n",
              "      <td>1.000000</td>\n",
              "      <td>2002.000000</td>\n",
              "      <td>2.000000</td>\n",
              "      <td>576.000000</td>\n",
              "      <td>168.000000</td>\n",
              "      <td>68.000000</td>\n",
              "      <td>0.000000</td>\n",
              "      <td>0.000000</td>\n",
              "      <td>0.000000</td>\n",
              "      <td>0.000000</td>\n",
              "      <td>0.000000</td>\n",
              "      <td>8.000000</td>\n",
              "      <td>2009.000000</td>\n",
              "      <td>214000.000000</td>\n",
              "    </tr>\n",
              "    <tr>\n",
              "      <th>max</th>\n",
              "      <td>1460.000000</td>\n",
              "      <td>190.000000</td>\n",
              "      <td>313.000000</td>\n",
              "      <td>215245.000000</td>\n",
              "      <td>10.000000</td>\n",
              "      <td>9.000000</td>\n",
              "      <td>2010.000000</td>\n",
              "      <td>2010.000000</td>\n",
              "      <td>1600.000000</td>\n",
              "      <td>5644.000000</td>\n",
              "      <td>1474.000000</td>\n",
              "      <td>2336.000000</td>\n",
              "      <td>6110.000000</td>\n",
              "      <td>4692.000000</td>\n",
              "      <td>2065.000000</td>\n",
              "      <td>572.000000</td>\n",
              "      <td>5642.000000</td>\n",
              "      <td>3.000000</td>\n",
              "      <td>2.000000</td>\n",
              "      <td>3.000000</td>\n",
              "      <td>2.000000</td>\n",
              "      <td>8.000000</td>\n",
              "      <td>3.000000</td>\n",
              "      <td>14.000000</td>\n",
              "      <td>3.000000</td>\n",
              "      <td>2010.000000</td>\n",
              "      <td>4.000000</td>\n",
              "      <td>1418.000000</td>\n",
              "      <td>857.000000</td>\n",
              "      <td>547.000000</td>\n",
              "      <td>552.000000</td>\n",
              "      <td>508.000000</td>\n",
              "      <td>480.000000</td>\n",
              "      <td>738.000000</td>\n",
              "      <td>15500.000000</td>\n",
              "      <td>12.000000</td>\n",
              "      <td>2010.000000</td>\n",
              "      <td>755000.000000</td>\n",
              "    </tr>\n",
              "  </tbody>\n",
              "</table>\n",
              "</div>"
            ],
            "text/plain": [
              "                Id   MSSubClass  ...       YrSold      SalePrice\n",
              "count  1460.000000  1460.000000  ...  1460.000000    1460.000000\n",
              "mean    730.500000    56.897260  ...  2007.815753  180921.195890\n",
              "std     421.610009    42.300571  ...     1.328095   79442.502883\n",
              "min       1.000000    20.000000  ...  2006.000000   34900.000000\n",
              "25%     365.750000    20.000000  ...  2007.000000  129975.000000\n",
              "50%     730.500000    50.000000  ...  2008.000000  163000.000000\n",
              "75%    1095.250000    70.000000  ...  2009.000000  214000.000000\n",
              "max    1460.000000   190.000000  ...  2010.000000  755000.000000\n",
              "\n",
              "[8 rows x 38 columns]"
            ]
          },
          "metadata": {},
          "execution_count": 6
        }
      ]
    },
    {
      "cell_type": "markdown",
      "metadata": {
        "id": "TOhxUo3oQe4c"
      },
      "source": [
        "Notice that with `describe()` it says there are only 38 columns even though train_df has 81 columns. That's because only the numeric columns had meaningful descriptive statistics. To see non-numeric columns as well we can simply print out the first few rows of a DataFrame using `head()`, although note that even though it now says there are 81 columns we only see the first 10 and last 10."
      ]
    },
    {
      "cell_type": "code",
      "metadata": {
        "id": "n1vxnJSLQe4d",
        "outputId": "e3734b11-8a71-4de8-bb87-40d8aa6ed1ce",
        "colab": {
          "base_uri": "https://localhost:8080/",
          "height": 254
        }
      },
      "source": [
        "train_df.head()"
      ],
      "execution_count": null,
      "outputs": [
        {
          "output_type": "execute_result",
          "data": {
            "text/html": [
              "<div>\n",
              "<style scoped>\n",
              "    .dataframe tbody tr th:only-of-type {\n",
              "        vertical-align: middle;\n",
              "    }\n",
              "\n",
              "    .dataframe tbody tr th {\n",
              "        vertical-align: top;\n",
              "    }\n",
              "\n",
              "    .dataframe thead th {\n",
              "        text-align: right;\n",
              "    }\n",
              "</style>\n",
              "<table border=\"1\" class=\"dataframe\">\n",
              "  <thead>\n",
              "    <tr style=\"text-align: right;\">\n",
              "      <th></th>\n",
              "      <th>Id</th>\n",
              "      <th>MSSubClass</th>\n",
              "      <th>MSZoning</th>\n",
              "      <th>LotFrontage</th>\n",
              "      <th>LotArea</th>\n",
              "      <th>Street</th>\n",
              "      <th>Alley</th>\n",
              "      <th>LotShape</th>\n",
              "      <th>LandContour</th>\n",
              "      <th>Utilities</th>\n",
              "      <th>LotConfig</th>\n",
              "      <th>LandSlope</th>\n",
              "      <th>Neighborhood</th>\n",
              "      <th>Condition1</th>\n",
              "      <th>Condition2</th>\n",
              "      <th>BldgType</th>\n",
              "      <th>HouseStyle</th>\n",
              "      <th>OverallQual</th>\n",
              "      <th>OverallCond</th>\n",
              "      <th>YearBuilt</th>\n",
              "      <th>YearRemodAdd</th>\n",
              "      <th>RoofStyle</th>\n",
              "      <th>RoofMatl</th>\n",
              "      <th>Exterior1st</th>\n",
              "      <th>Exterior2nd</th>\n",
              "      <th>MasVnrType</th>\n",
              "      <th>MasVnrArea</th>\n",
              "      <th>ExterQual</th>\n",
              "      <th>ExterCond</th>\n",
              "      <th>Foundation</th>\n",
              "      <th>BsmtQual</th>\n",
              "      <th>BsmtCond</th>\n",
              "      <th>BsmtExposure</th>\n",
              "      <th>BsmtFinType1</th>\n",
              "      <th>BsmtFinSF1</th>\n",
              "      <th>BsmtFinType2</th>\n",
              "      <th>BsmtFinSF2</th>\n",
              "      <th>BsmtUnfSF</th>\n",
              "      <th>TotalBsmtSF</th>\n",
              "      <th>Heating</th>\n",
              "      <th>...</th>\n",
              "      <th>CentralAir</th>\n",
              "      <th>Electrical</th>\n",
              "      <th>1stFlrSF</th>\n",
              "      <th>2ndFlrSF</th>\n",
              "      <th>LowQualFinSF</th>\n",
              "      <th>GrLivArea</th>\n",
              "      <th>BsmtFullBath</th>\n",
              "      <th>BsmtHalfBath</th>\n",
              "      <th>FullBath</th>\n",
              "      <th>HalfBath</th>\n",
              "      <th>BedroomAbvGr</th>\n",
              "      <th>KitchenAbvGr</th>\n",
              "      <th>KitchenQual</th>\n",
              "      <th>TotRmsAbvGrd</th>\n",
              "      <th>Functional</th>\n",
              "      <th>Fireplaces</th>\n",
              "      <th>FireplaceQu</th>\n",
              "      <th>GarageType</th>\n",
              "      <th>GarageYrBlt</th>\n",
              "      <th>GarageFinish</th>\n",
              "      <th>GarageCars</th>\n",
              "      <th>GarageArea</th>\n",
              "      <th>GarageQual</th>\n",
              "      <th>GarageCond</th>\n",
              "      <th>PavedDrive</th>\n",
              "      <th>WoodDeckSF</th>\n",
              "      <th>OpenPorchSF</th>\n",
              "      <th>EnclosedPorch</th>\n",
              "      <th>3SsnPorch</th>\n",
              "      <th>ScreenPorch</th>\n",
              "      <th>PoolArea</th>\n",
              "      <th>PoolQC</th>\n",
              "      <th>Fence</th>\n",
              "      <th>MiscFeature</th>\n",
              "      <th>MiscVal</th>\n",
              "      <th>MoSold</th>\n",
              "      <th>YrSold</th>\n",
              "      <th>SaleType</th>\n",
              "      <th>SaleCondition</th>\n",
              "      <th>SalePrice</th>\n",
              "    </tr>\n",
              "  </thead>\n",
              "  <tbody>\n",
              "    <tr>\n",
              "      <th>0</th>\n",
              "      <td>1</td>\n",
              "      <td>60</td>\n",
              "      <td>RL</td>\n",
              "      <td>65.0</td>\n",
              "      <td>8450</td>\n",
              "      <td>Pave</td>\n",
              "      <td>NaN</td>\n",
              "      <td>Reg</td>\n",
              "      <td>Lvl</td>\n",
              "      <td>AllPub</td>\n",
              "      <td>Inside</td>\n",
              "      <td>Gtl</td>\n",
              "      <td>CollgCr</td>\n",
              "      <td>Norm</td>\n",
              "      <td>Norm</td>\n",
              "      <td>1Fam</td>\n",
              "      <td>2Story</td>\n",
              "      <td>7</td>\n",
              "      <td>5</td>\n",
              "      <td>2003</td>\n",
              "      <td>2003</td>\n",
              "      <td>Gable</td>\n",
              "      <td>CompShg</td>\n",
              "      <td>VinylSd</td>\n",
              "      <td>VinylSd</td>\n",
              "      <td>BrkFace</td>\n",
              "      <td>196.0</td>\n",
              "      <td>Gd</td>\n",
              "      <td>TA</td>\n",
              "      <td>PConc</td>\n",
              "      <td>Gd</td>\n",
              "      <td>TA</td>\n",
              "      <td>No</td>\n",
              "      <td>GLQ</td>\n",
              "      <td>706</td>\n",
              "      <td>Unf</td>\n",
              "      <td>0</td>\n",
              "      <td>150</td>\n",
              "      <td>856</td>\n",
              "      <td>GasA</td>\n",
              "      <td>...</td>\n",
              "      <td>Y</td>\n",
              "      <td>SBrkr</td>\n",
              "      <td>856</td>\n",
              "      <td>854</td>\n",
              "      <td>0</td>\n",
              "      <td>1710</td>\n",
              "      <td>1</td>\n",
              "      <td>0</td>\n",
              "      <td>2</td>\n",
              "      <td>1</td>\n",
              "      <td>3</td>\n",
              "      <td>1</td>\n",
              "      <td>Gd</td>\n",
              "      <td>8</td>\n",
              "      <td>Typ</td>\n",
              "      <td>0</td>\n",
              "      <td>NaN</td>\n",
              "      <td>Attchd</td>\n",
              "      <td>2003.0</td>\n",
              "      <td>RFn</td>\n",
              "      <td>2</td>\n",
              "      <td>548</td>\n",
              "      <td>TA</td>\n",
              "      <td>TA</td>\n",
              "      <td>Y</td>\n",
              "      <td>0</td>\n",
              "      <td>61</td>\n",
              "      <td>0</td>\n",
              "      <td>0</td>\n",
              "      <td>0</td>\n",
              "      <td>0</td>\n",
              "      <td>NaN</td>\n",
              "      <td>NaN</td>\n",
              "      <td>NaN</td>\n",
              "      <td>0</td>\n",
              "      <td>2</td>\n",
              "      <td>2008</td>\n",
              "      <td>WD</td>\n",
              "      <td>Normal</td>\n",
              "      <td>208500</td>\n",
              "    </tr>\n",
              "    <tr>\n",
              "      <th>1</th>\n",
              "      <td>2</td>\n",
              "      <td>20</td>\n",
              "      <td>RL</td>\n",
              "      <td>80.0</td>\n",
              "      <td>9600</td>\n",
              "      <td>Pave</td>\n",
              "      <td>NaN</td>\n",
              "      <td>Reg</td>\n",
              "      <td>Lvl</td>\n",
              "      <td>AllPub</td>\n",
              "      <td>FR2</td>\n",
              "      <td>Gtl</td>\n",
              "      <td>Veenker</td>\n",
              "      <td>Feedr</td>\n",
              "      <td>Norm</td>\n",
              "      <td>1Fam</td>\n",
              "      <td>1Story</td>\n",
              "      <td>6</td>\n",
              "      <td>8</td>\n",
              "      <td>1976</td>\n",
              "      <td>1976</td>\n",
              "      <td>Gable</td>\n",
              "      <td>CompShg</td>\n",
              "      <td>MetalSd</td>\n",
              "      <td>MetalSd</td>\n",
              "      <td>None</td>\n",
              "      <td>0.0</td>\n",
              "      <td>TA</td>\n",
              "      <td>TA</td>\n",
              "      <td>CBlock</td>\n",
              "      <td>Gd</td>\n",
              "      <td>TA</td>\n",
              "      <td>Gd</td>\n",
              "      <td>ALQ</td>\n",
              "      <td>978</td>\n",
              "      <td>Unf</td>\n",
              "      <td>0</td>\n",
              "      <td>284</td>\n",
              "      <td>1262</td>\n",
              "      <td>GasA</td>\n",
              "      <td>...</td>\n",
              "      <td>Y</td>\n",
              "      <td>SBrkr</td>\n",
              "      <td>1262</td>\n",
              "      <td>0</td>\n",
              "      <td>0</td>\n",
              "      <td>1262</td>\n",
              "      <td>0</td>\n",
              "      <td>1</td>\n",
              "      <td>2</td>\n",
              "      <td>0</td>\n",
              "      <td>3</td>\n",
              "      <td>1</td>\n",
              "      <td>TA</td>\n",
              "      <td>6</td>\n",
              "      <td>Typ</td>\n",
              "      <td>1</td>\n",
              "      <td>TA</td>\n",
              "      <td>Attchd</td>\n",
              "      <td>1976.0</td>\n",
              "      <td>RFn</td>\n",
              "      <td>2</td>\n",
              "      <td>460</td>\n",
              "      <td>TA</td>\n",
              "      <td>TA</td>\n",
              "      <td>Y</td>\n",
              "      <td>298</td>\n",
              "      <td>0</td>\n",
              "      <td>0</td>\n",
              "      <td>0</td>\n",
              "      <td>0</td>\n",
              "      <td>0</td>\n",
              "      <td>NaN</td>\n",
              "      <td>NaN</td>\n",
              "      <td>NaN</td>\n",
              "      <td>0</td>\n",
              "      <td>5</td>\n",
              "      <td>2007</td>\n",
              "      <td>WD</td>\n",
              "      <td>Normal</td>\n",
              "      <td>181500</td>\n",
              "    </tr>\n",
              "    <tr>\n",
              "      <th>2</th>\n",
              "      <td>3</td>\n",
              "      <td>60</td>\n",
              "      <td>RL</td>\n",
              "      <td>68.0</td>\n",
              "      <td>11250</td>\n",
              "      <td>Pave</td>\n",
              "      <td>NaN</td>\n",
              "      <td>IR1</td>\n",
              "      <td>Lvl</td>\n",
              "      <td>AllPub</td>\n",
              "      <td>Inside</td>\n",
              "      <td>Gtl</td>\n",
              "      <td>CollgCr</td>\n",
              "      <td>Norm</td>\n",
              "      <td>Norm</td>\n",
              "      <td>1Fam</td>\n",
              "      <td>2Story</td>\n",
              "      <td>7</td>\n",
              "      <td>5</td>\n",
              "      <td>2001</td>\n",
              "      <td>2002</td>\n",
              "      <td>Gable</td>\n",
              "      <td>CompShg</td>\n",
              "      <td>VinylSd</td>\n",
              "      <td>VinylSd</td>\n",
              "      <td>BrkFace</td>\n",
              "      <td>162.0</td>\n",
              "      <td>Gd</td>\n",
              "      <td>TA</td>\n",
              "      <td>PConc</td>\n",
              "      <td>Gd</td>\n",
              "      <td>TA</td>\n",
              "      <td>Mn</td>\n",
              "      <td>GLQ</td>\n",
              "      <td>486</td>\n",
              "      <td>Unf</td>\n",
              "      <td>0</td>\n",
              "      <td>434</td>\n",
              "      <td>920</td>\n",
              "      <td>GasA</td>\n",
              "      <td>...</td>\n",
              "      <td>Y</td>\n",
              "      <td>SBrkr</td>\n",
              "      <td>920</td>\n",
              "      <td>866</td>\n",
              "      <td>0</td>\n",
              "      <td>1786</td>\n",
              "      <td>1</td>\n",
              "      <td>0</td>\n",
              "      <td>2</td>\n",
              "      <td>1</td>\n",
              "      <td>3</td>\n",
              "      <td>1</td>\n",
              "      <td>Gd</td>\n",
              "      <td>6</td>\n",
              "      <td>Typ</td>\n",
              "      <td>1</td>\n",
              "      <td>TA</td>\n",
              "      <td>Attchd</td>\n",
              "      <td>2001.0</td>\n",
              "      <td>RFn</td>\n",
              "      <td>2</td>\n",
              "      <td>608</td>\n",
              "      <td>TA</td>\n",
              "      <td>TA</td>\n",
              "      <td>Y</td>\n",
              "      <td>0</td>\n",
              "      <td>42</td>\n",
              "      <td>0</td>\n",
              "      <td>0</td>\n",
              "      <td>0</td>\n",
              "      <td>0</td>\n",
              "      <td>NaN</td>\n",
              "      <td>NaN</td>\n",
              "      <td>NaN</td>\n",
              "      <td>0</td>\n",
              "      <td>9</td>\n",
              "      <td>2008</td>\n",
              "      <td>WD</td>\n",
              "      <td>Normal</td>\n",
              "      <td>223500</td>\n",
              "    </tr>\n",
              "    <tr>\n",
              "      <th>3</th>\n",
              "      <td>4</td>\n",
              "      <td>70</td>\n",
              "      <td>RL</td>\n",
              "      <td>60.0</td>\n",
              "      <td>9550</td>\n",
              "      <td>Pave</td>\n",
              "      <td>NaN</td>\n",
              "      <td>IR1</td>\n",
              "      <td>Lvl</td>\n",
              "      <td>AllPub</td>\n",
              "      <td>Corner</td>\n",
              "      <td>Gtl</td>\n",
              "      <td>Crawfor</td>\n",
              "      <td>Norm</td>\n",
              "      <td>Norm</td>\n",
              "      <td>1Fam</td>\n",
              "      <td>2Story</td>\n",
              "      <td>7</td>\n",
              "      <td>5</td>\n",
              "      <td>1915</td>\n",
              "      <td>1970</td>\n",
              "      <td>Gable</td>\n",
              "      <td>CompShg</td>\n",
              "      <td>Wd Sdng</td>\n",
              "      <td>Wd Shng</td>\n",
              "      <td>None</td>\n",
              "      <td>0.0</td>\n",
              "      <td>TA</td>\n",
              "      <td>TA</td>\n",
              "      <td>BrkTil</td>\n",
              "      <td>TA</td>\n",
              "      <td>Gd</td>\n",
              "      <td>No</td>\n",
              "      <td>ALQ</td>\n",
              "      <td>216</td>\n",
              "      <td>Unf</td>\n",
              "      <td>0</td>\n",
              "      <td>540</td>\n",
              "      <td>756</td>\n",
              "      <td>GasA</td>\n",
              "      <td>...</td>\n",
              "      <td>Y</td>\n",
              "      <td>SBrkr</td>\n",
              "      <td>961</td>\n",
              "      <td>756</td>\n",
              "      <td>0</td>\n",
              "      <td>1717</td>\n",
              "      <td>1</td>\n",
              "      <td>0</td>\n",
              "      <td>1</td>\n",
              "      <td>0</td>\n",
              "      <td>3</td>\n",
              "      <td>1</td>\n",
              "      <td>Gd</td>\n",
              "      <td>7</td>\n",
              "      <td>Typ</td>\n",
              "      <td>1</td>\n",
              "      <td>Gd</td>\n",
              "      <td>Detchd</td>\n",
              "      <td>1998.0</td>\n",
              "      <td>Unf</td>\n",
              "      <td>3</td>\n",
              "      <td>642</td>\n",
              "      <td>TA</td>\n",
              "      <td>TA</td>\n",
              "      <td>Y</td>\n",
              "      <td>0</td>\n",
              "      <td>35</td>\n",
              "      <td>272</td>\n",
              "      <td>0</td>\n",
              "      <td>0</td>\n",
              "      <td>0</td>\n",
              "      <td>NaN</td>\n",
              "      <td>NaN</td>\n",
              "      <td>NaN</td>\n",
              "      <td>0</td>\n",
              "      <td>2</td>\n",
              "      <td>2006</td>\n",
              "      <td>WD</td>\n",
              "      <td>Abnorml</td>\n",
              "      <td>140000</td>\n",
              "    </tr>\n",
              "    <tr>\n",
              "      <th>4</th>\n",
              "      <td>5</td>\n",
              "      <td>60</td>\n",
              "      <td>RL</td>\n",
              "      <td>84.0</td>\n",
              "      <td>14260</td>\n",
              "      <td>Pave</td>\n",
              "      <td>NaN</td>\n",
              "      <td>IR1</td>\n",
              "      <td>Lvl</td>\n",
              "      <td>AllPub</td>\n",
              "      <td>FR2</td>\n",
              "      <td>Gtl</td>\n",
              "      <td>NoRidge</td>\n",
              "      <td>Norm</td>\n",
              "      <td>Norm</td>\n",
              "      <td>1Fam</td>\n",
              "      <td>2Story</td>\n",
              "      <td>8</td>\n",
              "      <td>5</td>\n",
              "      <td>2000</td>\n",
              "      <td>2000</td>\n",
              "      <td>Gable</td>\n",
              "      <td>CompShg</td>\n",
              "      <td>VinylSd</td>\n",
              "      <td>VinylSd</td>\n",
              "      <td>BrkFace</td>\n",
              "      <td>350.0</td>\n",
              "      <td>Gd</td>\n",
              "      <td>TA</td>\n",
              "      <td>PConc</td>\n",
              "      <td>Gd</td>\n",
              "      <td>TA</td>\n",
              "      <td>Av</td>\n",
              "      <td>GLQ</td>\n",
              "      <td>655</td>\n",
              "      <td>Unf</td>\n",
              "      <td>0</td>\n",
              "      <td>490</td>\n",
              "      <td>1145</td>\n",
              "      <td>GasA</td>\n",
              "      <td>...</td>\n",
              "      <td>Y</td>\n",
              "      <td>SBrkr</td>\n",
              "      <td>1145</td>\n",
              "      <td>1053</td>\n",
              "      <td>0</td>\n",
              "      <td>2198</td>\n",
              "      <td>1</td>\n",
              "      <td>0</td>\n",
              "      <td>2</td>\n",
              "      <td>1</td>\n",
              "      <td>4</td>\n",
              "      <td>1</td>\n",
              "      <td>Gd</td>\n",
              "      <td>9</td>\n",
              "      <td>Typ</td>\n",
              "      <td>1</td>\n",
              "      <td>TA</td>\n",
              "      <td>Attchd</td>\n",
              "      <td>2000.0</td>\n",
              "      <td>RFn</td>\n",
              "      <td>3</td>\n",
              "      <td>836</td>\n",
              "      <td>TA</td>\n",
              "      <td>TA</td>\n",
              "      <td>Y</td>\n",
              "      <td>192</td>\n",
              "      <td>84</td>\n",
              "      <td>0</td>\n",
              "      <td>0</td>\n",
              "      <td>0</td>\n",
              "      <td>0</td>\n",
              "      <td>NaN</td>\n",
              "      <td>NaN</td>\n",
              "      <td>NaN</td>\n",
              "      <td>0</td>\n",
              "      <td>12</td>\n",
              "      <td>2008</td>\n",
              "      <td>WD</td>\n",
              "      <td>Normal</td>\n",
              "      <td>250000</td>\n",
              "    </tr>\n",
              "  </tbody>\n",
              "</table>\n",
              "<p>5 rows × 81 columns</p>\n",
              "</div>"
            ],
            "text/plain": [
              "   Id  MSSubClass MSZoning  ...  SaleType  SaleCondition SalePrice\n",
              "0   1          60       RL  ...        WD         Normal    208500\n",
              "1   2          20       RL  ...        WD         Normal    181500\n",
              "2   3          60       RL  ...        WD         Normal    223500\n",
              "3   4          70       RL  ...        WD        Abnorml    140000\n",
              "4   5          60       RL  ...        WD         Normal    250000\n",
              "\n",
              "[5 rows x 81 columns]"
            ]
          },
          "metadata": {},
          "execution_count": 7
        }
      ]
    },
    {
      "cell_type": "markdown",
      "metadata": {
        "id": "dZWaf10xQe4e"
      },
      "source": [
        "We can start to visually explore some of the individual columns/fields now, starting with the target variable, `SalePrice`.\n",
        "\n",
        "We'll need `maplotlib` for this so we will import that first, and then plot."
      ]
    },
    {
      "cell_type": "code",
      "metadata": {
        "id": "SNgnzXKVQe4f",
        "outputId": "41e5fa52-4617-4986-c92b-f5458c98bcef",
        "colab": {
          "base_uri": "https://localhost:8080/",
          "height": 279
        }
      },
      "source": [
        "import matplotlib.pyplot as plt\n",
        "\n",
        "plt.hist(train_df['SalePrice'], bins=20, edgecolor='black')\n",
        "plt.xlabel(\"home sale price\")\n",
        "plt.ylabel(\"# of observations\")\n",
        "plt.show()"
      ],
      "execution_count": null,
      "outputs": [
        {
          "output_type": "display_data",
          "data": {
            "image/png": "[encoded data removed]",
            "text/plain": [
              "<Figure size 432x288 with 1 Axes>"
            ]
          },
          "metadata": {
            "needs_background": "light"
          }
        }
      ]
    },
    {
      "cell_type": "markdown",
      "metadata": {
        "id": "s6Ids5tKQe4g"
      },
      "source": [
        "We can also start to explore some of the relationships between the features (i.e. independent variables) and the target (i.e. dependent variable)."
      ]
    },
    {
      "cell_type": "code",
      "metadata": {
        "id": "3Qwl4czzQe4i",
        "outputId": "394edce2-dc0e-4132-ab55-1385c0f329e3",
        "colab": {
          "base_uri": "https://localhost:8080/",
          "height": 283
        }
      },
      "source": [
        "plt.scatter(train_df['1stFlrSF'], train_df['SalePrice'], alpha=.2)\n",
        "#plt.xlabel(\"first floor square footage\")\n",
        "#plt.ylabel(\"home sale price\")\n",
        "#plt.show()"
      ],
      "execution_count": null,
      "outputs": [
        {
          "output_type": "execute_result",
          "data": {
            "text/plain": [
              "<matplotlib.collections.PathCollection at 0x7f2871c83ed0>"
            ]
          },
          "metadata": {},
          "execution_count": 22
        },
        {
          "output_type": "display_data",
          "data": {
            "image/png": "[encoded data removed]",
            "text/plain": [
              "<Figure size 432x288 with 1 Axes>"
            ]
          },
          "metadata": {
            "needs_background": "light"
          }
        }
      ]
    },
    {
      "cell_type": "markdown",
      "metadata": {
        "id": "ZNMSESezQe4j"
      },
      "source": [
        "Now let's look at some of the categorical/discrete features, such as `SaleCondition`."
      ]
    },
    {
      "cell_type": "code",
      "metadata": {
        "id": "QIVwiP91Qe4j"
      },
      "source": [
        "plt.hist(train_df['SaleCondition'])\n",
        "plt.xlabel(\"condition at time of sale\")\n",
        "plt.ylabel(\"# of observations\")\n",
        "plt.show()"
      ],
      "execution_count": null,
      "outputs": []
    },
    {
      "cell_type": "markdown",
      "metadata": {
        "id": "l7uy7RfdQe4k"
      },
      "source": [
        "Before we can go much further we'll have to deal with some of the missing values in the data, so let's do that now with our DataFrame object's `isnull()` method, and then `sum()` method to add up the number of null entries in each column."
      ]
    },
    {
      "cell_type": "code",
      "metadata": {
        "id": "Mx0DW_mFQe4l"
      },
      "source": [
        "null_entries = train_df.isnull().sum()\n",
        "null_entries"
      ],
      "execution_count": null,
      "outputs": []
    },
    {
      "cell_type": "markdown",
      "metadata": {
        "id": "MFkh1g0TQe4l"
      },
      "source": [
        "It looks like most of the columns have 0 missing/na values, which is good. Let's try looking at just the ones with at least 1 missing/na value."
      ]
    },
    {
      "cell_type": "code",
      "metadata": {
        "id": "vQfTyVfWQe4l"
      },
      "source": [
        "null_entries[null_entries > 0]"
      ],
      "execution_count": null,
      "outputs": []
    },
    {
      "cell_type": "markdown",
      "metadata": {
        "id": "w8mgi_38Qe4n"
      },
      "source": [
        "There are some columns with many missing values, although most of them are only missing a few.\n",
        "\n",
        "If we were working on a real project using this data then we would likely want to see whether those columns with just a few missing values are worth trying to salvage in some way (e.g. interpolation). For our purposes we will simply drop all of these columns from our dataset.\n",
        "\n",
        "We'll then convert the categorial fields (that are strings) to a numerical format and double check the data type of all of the columns in `X`."
      ]
    },
    {
      "cell_type": "code",
      "metadata": {
        "id": "v33fZOhnQe4n"
      },
      "source": [
        "# Create temporary y=target and X=features, excluding those cols with missing values from X\n",
        "cols_w_nulls = null_entries[null_entries > 0].index\n",
        "X = train_df.drop(columns=cols_w_nulls).copy()\n",
        "y = X.pop(\"SalePrice\")\n",
        "\n",
        "# Label encoding for categoricals\n",
        "for colname in X.select_dtypes('object').columns:\n",
        "    X[colname], _ = X[colname].factorize()\n",
        "\n",
        "# Check data type of each column in X\n",
        "X.dtypes"
      ],
      "execution_count": null,
      "outputs": []
    },
    {
      "cell_type": "markdown",
      "metadata": {
        "id": "nYdRgWEiQe4o"
      },
      "source": [
        "### 2. Selecting features for a model\n",
        "\n",
        "There are many ways to approach feature selection but we will quickly look at one using mutual information between each individual feature and the target (we won't dig into what mutual information is exactly is in this course, but you can think of it as a the difference between the probability distribution of a variable, X, versus the conditional probability distribution of X given Y - i.e. how much additional information does Y provide about X).\n",
        "\n",
        "Let's create a simple wrapper around the scikit learn mutual information function to store and sort the results, which we can then plot."
      ]
    },
    {
      "cell_type": "code",
      "metadata": {
        "id": "2J7dKYNJQe4o"
      },
      "source": [
        "from sklearn.feature_selection import mutual_info_regression\n",
        "\n",
        "def make_mi_scores(X, y):\n",
        "    assert X.shape[0] == y.shape[0] and X.shape[1] > 1\n",
        "    mi_scores = mutual_info_regression(X, y)\n",
        "    mi_scores = pd.Series(mi_scores, name=\"MI Scores\", index=X.columns)\n",
        "    mi_scores = mi_scores.sort_values(ascending=False)\n",
        "    return mi_scores\n",
        "\n",
        "mi_scores = make_mi_scores(X, y)#, discrete_features)\n",
        "\n",
        "# Look at every fifth score to see the range of values\n",
        "# Note: the range of possible values is positive reals, but in practice it rarely goes above 1.0 or 2.0\n",
        "mi_scores[:11]\n",
        "\n",
        "def plot_mi_scores(scores):\n",
        "    scores = scores.sort_values(ascending=True)\n",
        "    width = np.arange(len(scores))\n",
        "    ticks = list(scores.index)\n",
        "    plt.barh(width, scores)\n",
        "    plt.yticks(width, ticks)\n",
        "    plt.title(\"Mutual Information Scores\")\n",
        "\n",
        "# plot the top 20 scores\n",
        "plt.figure(dpi=100, figsize=(8, 5))\n",
        "plot_mi_scores(mi_scores[:25])"
      ],
      "execution_count": null,
      "outputs": []
    },
    {
      "cell_type": "markdown",
      "metadata": {
        "id": "QuVH7i56Qe4p"
      },
      "source": [
        "### 3. Train a model\n",
        "\n",
        "Let's start with a basic model, a linear regression model.\n",
        "\n",
        "Also, let's assume that we want to use only the most simple, objective, and unambiguous features. For example, the most informative feature, `OverallQual`, is a feature that was derived in some way that required human input. If we want to take only the features that can be quickly and precisely used, then `OverallQual` would not be one of them. However, `GarageCars`, and `1stFlrSF` would be. Let's take a set of ~10 such features and use those in our model."
      ]
    },
    {
      "cell_type": "code",
      "metadata": {
        "id": "ioUUVUT1Qe4q"
      },
      "source": [
        "from sklearn.linear_model import LinearRegression\n",
        "\n",
        "# top informative features that are also easy/fast/precise to measure\n",
        "selected_features = ['GrLivArea', 'GarageCars', 'GarageArea', 'YearBuilt', 'TotalBsmtSF', '1stFlrSF', 'FullBath', 'TotRmsAbvGrd', 'Fireplaces']\n",
        "X_linreg = X[selected_features].copy()\n",
        "\n",
        "# declare and fit (i.e. train) a model\n",
        "linreg_model = LinearRegression()\n",
        "linreg_model.fit(X_linreg, y)"
      ],
      "execution_count": null,
      "outputs": []
    },
    {
      "cell_type": "markdown",
      "metadata": {
        "id": "KGBN8G7oQe4q"
      },
      "source": [
        "We need to have a way to assess the fit/performance of this model.\n",
        "\n",
        "What is the standard way to assess a least squares linear regression model? _note the hint given there!_"
      ]
    },
    {
      "cell_type": "code",
      "metadata": {
        "id": "ix66KDB0Qe4s"
      },
      "source": [
        "# Calculate predicted y's usign the linear regression model\n",
        "y_pred = linreg_model.predict(X_linreg)\n",
        "\n",
        "# Plot the predictions side-by-side with the actual values\n",
        "# Note: a perfect model would yield the identity, y=x\n",
        "plt.scatter(y, y_pred, alpha=0.3)\n",
        "plt.xlabel('y actual')\n",
        "plt.ylabel('y predicted')\n",
        "plt.plot([0,5e5],[0,5e5], c='k', alpha=0.2)\n",
        "plt.show()\n",
        "\n",
        "# Calculate and show the mean squared error\n",
        "mse_linreg = (((y - y_pred)**2).mean())\n",
        "print(\"mse_linreg = \", mse_linreg)\n",
        "print(\"rmse_linreg = \", np.sqrt(mse_linreg))"
      ],
      "execution_count": null,
      "outputs": []
    },
    {
      "cell_type": "markdown",
      "metadata": {
        "id": "UFJKeoSzQe4t"
      },
      "source": [
        "\n",
        "### 4. Feature Engineering\n",
        "\n",
        "In the field of Data Science it is commonly said that 80-90% of the time is spent on cleaning and munging the data. Part of this process involves looking at the features and trying to derive new ones that can be used more readily by your model. In the case of linear regression we know that only linear relationships of the features are considered.\n",
        "\n",
        "That's not to say that a more complex relationship cannot be modeled, but we must manipulate and transform the features to allow a linear regression model to take advantage of it.\n",
        "\n",
        "For example, the true relationship between $y$ and $x$ may be quadratic in nature, i.e.:\n",
        "  * $y = a * x^2 + b * x + ...$.\n",
        "\n",
        "If, however, we only observe $x$, then we can simply create a new feature, $x^{'} = x * x$.\n",
        "\n",
        "Often times new features are combinations of other features themselves, since most models cannot account for such interactions on their own.\n",
        "\n",
        "In our case, suppose that we see the ratio of `GarageArea` to `1stFlrSF` helps our model perform better. Let's create this now and see how our model does.\n"
      ]
    },
    {
      "cell_type": "code",
      "metadata": {
        "id": "NuLPN0_SQe4u"
      },
      "source": [
        "X_linreg['Garage1stFlrRatio'] = (X_linreg['GarageArea']/X_linreg['1stFlrSF'])\n",
        "#plt.scatter(X_linreg['Garage1stFlrRatio'], y, alpha=0.2)\n",
        "#plt.show()\n",
        "\n",
        "linreg_model.fit(X_linreg, y)\n",
        "\n",
        "# Calculate predicted y's usign the linear regression model\n",
        "y_pred = linreg_model.predict(X_linreg)\n",
        "\n",
        "# Plot the predictions side-by-side with the actual values\n",
        "# Note: a perfect model would yield the identity, y=x\n",
        "plt.scatter(y, y_pred, alpha=0.3)\n",
        "plt.xlabel('y actual')\n",
        "plt.ylabel('y predicted')\n",
        "plt.plot([0,5e5],[0,5e5], c='k', alpha=0.2)\n",
        "plt.show()\n",
        "\n",
        "# Calculate and show the mean squared error\n",
        "mse_linreg = (((y - y_pred)**2).mean())\n",
        "print(\"mse_linreg = \", mse_linreg)\n",
        "print(\"rmse_linreg = \", np.sqrt(mse_linreg))"
      ],
      "execution_count": null,
      "outputs": []
    },
    {
      "cell_type": "markdown",
      "metadata": {
        "id": "CSX9wKJUQe4x"
      },
      "source": [
        "Adding that feature is only a modest improvement in our case (~5% reduction in MSE), but interactions are often present in data yet difficult to incorporate for some types of models, particularly for linear regression.\n",
        "\n",
        "### 5. Decision Tree Regressor\n",
        "Now we will try another traditional ML model, namely a decision tree."
      ]
    },
    {
      "cell_type": "code",
      "metadata": {
        "id": "jQsO7w1UQe4z"
      },
      "source": [
        "from sklearn.tree import DecisionTreeRegressor\n",
        "\n",
        "dectree_model = DecisionTreeRegressor(criterion='mse')\n",
        "dectree_model.fit(X_linreg, y)\n",
        "y_pred = dectree_model.predict(X_linreg)\n",
        "\n",
        "# Plot the predictions side-by-side with the actual values\n",
        "# Note: a perfect model would yield the identity, y=x\n",
        "plt.scatter(y, y_pred, alpha=0.3)\n",
        "plt.xlabel('y actual')\n",
        "plt.ylabel('y predicted')\n",
        "plt.plot([0,5e5],[0,5e5], c='k', alpha=0.2)\n",
        "plt.show()\n",
        "\n",
        "# Calculate and show the mean squared error\n",
        "mse_linreg = (((y - y_pred)**2).mean())\n",
        "print(\"mse_linreg = \", mse_linreg)\n",
        "print(\"rmse_linreg = \", np.sqrt(mse_linreg))"
      ],
      "execution_count": null,
      "outputs": []
    },
    {
      "cell_type": "markdown",
      "metadata": {
        "id": "BJIk07KUQe42"
      },
      "source": [
        "Wait a second, what happened there? We have a nearly perfect model!\n",
        "\n",
        "Is there anything we should be concerned about before we begin using this model for our new Zillow-type business endeavor?"
      ]
    },
    {
      "cell_type": "markdown",
      "metadata": {
        "id": "qA3BUXLRQe43"
      },
      "source": [
        "### 6. Overfitting / Underfitting and the Train-Validate-Test Process\n",
        "\n",
        "Yes, the issue with the decision tree we used above is that there was no maximum depth set for our tree, so it kept creating branches until it perfectly learned the dataset.\n",
        "\n",
        "We can verify this by looking at the MSE for another dataset that was not used to train/fit the model. We'll have to separate this from the original dataset, and refit each model. Once we do though, we can compare the linear regression and decision tree model using this held-out test dataset."
      ]
    },
    {
      "cell_type": "code",
      "metadata": {
        "id": "zzA5FSY9Qe44"
      },
      "source": [
        "from sklearn.model_selection import train_test_split\n",
        "\n",
        "# Create the train and test splits\n",
        "X_train, X_test, y_train, y_test = train_test_split(X_linreg, y, test_size=0.20, random_state=1)\n",
        "\n",
        "# Fit lin regression and calculate predicted test y's\n",
        "linreg_model.fit(X_train, y_train)\n",
        "y_linreg_pred = linreg_model.predict(X_test)\n",
        "\n",
        "# Fit lin regression and calculate predicted test y's\n",
        "dectree_model = DecisionTreeRegressor(criterion='mse')\n",
        "dectree_model.fit(X_train, y_train)\n",
        "y_dectree_pred = dectree_model.predict(X_test)\n",
        "\n",
        "# Plot the predictions side-by-side with the actual values\n",
        "# Note: a perfect model would yield the identity, y=x\n",
        "plt.scatter(y_test, y_linreg_pred, alpha=0.2, c='b')\n",
        "plt.scatter(y_test, y_dectree_pred, alpha=0.2, c='r')\n",
        "plt.legend(['lin reg test predictions', 'dec tree test predictions'])\n",
        "plt.xlabel('y test actual')\n",
        "plt.ylabel('y test predicted')\n",
        "plt.plot([0,5e5],[0,5e5], c='k', alpha=0.2)\n",
        "plt.show()\n",
        "\n",
        "# Calculate and show the mean squared errors\n",
        "mse_linreg = (((y_test - y_linreg_pred)**2).mean())\n",
        "print(f\"linreg mse = {mse_linreg:.2f} (rmse = {np.sqrt(mse_linreg):.2f})\")\n",
        "\n",
        "mse_dectree = (((y_test - y_dectree_pred)**2).mean())\n",
        "print(f\"dectree mse = {mse_dectree:.2f} (rmse = {np.sqrt(mse_dectree):.2f})\")\n"
      ],
      "execution_count": null,
      "outputs": []
    },
    {
      "cell_type": "markdown",
      "metadata": {
        "id": "3sao4iLVQe44"
      },
      "source": [
        "The resulting MSEs for the test datasets are much more comparable now, which restores some of our confidence in usefulness of basic linear regression.\n",
        "\n",
        "It's likely that we can lower the MSE of the decision tree model though by preventing it from overfitting. One of the decision tree model parameters that can be used to prevent overfitting is the maximum depth of the tree (`max_depth` is the parameter we can pass to the function).\n",
        "\n",
        "Try changing the `max_depth` and see what happens. Note that a higher maximum depth will cause the model to conform more to the training dataset, while a lower maximum depth will limit how much it conforms to the training data.\n",
        "\n",
        "Often it is helpful to vary model parameters and calculate the loss (e.g. MSE) using the validation/test for each value of the model parameter. It's then possible to see how the test/validation loss changes with parameter value, and to find the optimal parameter value for your model."
      ]
    },
    {
      "cell_type": "markdown",
      "metadata": {
        "id": "iF_Ovod8Qe46"
      },
      "source": [
        "## II. Classification\n",
        "\n",
        "### 1. Titanic dataset\n",
        "\n",
        "Let's now look at a classification problem using a dataset where each row represents a passenger on the Titanic. This target/outcome is whether the passenger survived the voyage or not, so it is binary in nature. The features/predictors include the following:\n",
        "\n",
        "* survived: this is the target/outcome we are interested in predicting\n",
        "* pclass: A proxy for socio-economic status (SES)\n",
        "  - 1st = Upper\n",
        "  - 2nd = Middle\n",
        "  - 3rd = Lower\n",
        "* name\n",
        "* sex\n",
        "* age: Age is fractional if less than 1. If the age is estimated, is it in the form of xx.5\n",
        "* sibsp: The dataset defines family relations in this way...\n",
        "  - Sibling = brother, sister, stepbrother, stepsister\n",
        "  - Spouse = husband, wife (mistresses and fiancés were ignored)\n",
        "* parch: The dataset defines family relations in this way...\n",
        "  - Parent = mother, father\n",
        "  - Child = daughter, son, stepdaughter, stepson\n",
        "  - (some children travelled only with a nanny, therefore parch=0 for them)\n",
        "* ticket: ticket number\n",
        "* fare: ticket price\n",
        "* cabin: cabin number\n",
        "* embarked:\n",
        "  - C = Cherbourg\n",
        "  - Q = Queenstown\n",
        "  - S = Southampton\n",
        "\n",
        "\n",
        "\n",
        "Note that the use of this dataset as an example in Data Science/ML is common, but worth considering. As a prediction task, it doesn't make much sense for us to try to _predict_ survival for such a unique historical event. However, as a modeling task to better understand what features are most were most influential in predicting survival, it is an interesting and worthwhile dataset.\n"
      ]
    },
    {
      "cell_type": "code",
      "metadata": {
        "id": "PiYZLGhRQe47"
      },
      "source": [
        "DATA_URL = \"https://raw.githubusercontent.com/sgeinitz/cs39aa_data/main/titanic.csv\"\n",
        "\n",
        "train_df = pd.read_csv(DATA_URL)\n",
        "print(\"train_df.shape: \", train_df.shape)\n",
        "train_df.head()"
      ],
      "execution_count": null,
      "outputs": []
    },
    {
      "cell_type": "code",
      "metadata": {
        "id": "FSNeGzbwQe48"
      },
      "source": [
        "train_df.describe()"
      ],
      "execution_count": null,
      "outputs": []
    },
    {
      "cell_type": "markdown",
      "metadata": {
        "id": "Hi_f-BgOQe5B"
      },
      "source": [
        "As before, there are again some missing values to contend with."
      ]
    },
    {
      "cell_type": "code",
      "metadata": {
        "id": "wCfC0QLJQe5C"
      },
      "source": [
        "null_entries = train_df.isnull().sum()\n",
        "null_entries"
      ],
      "execution_count": null,
      "outputs": []
    },
    {
      "cell_type": "markdown",
      "metadata": {
        "id": "kMc4J029Qe5D"
      },
      "source": [
        "Cabin number is missing so many values (~80% of the observations), that it's probably best to drop the entire column.\n",
        "\n",
        "Age seems like an important feature so that is something we would normally want to try to keep by using interpolation, or some other method. For our example though, we will simply drop all observations with a missing `Age` value, as well as the ones with missing `Embarked` values."
      ]
    },
    {
      "cell_type": "code",
      "metadata": {
        "id": "bc_VMhYEQe5F"
      },
      "source": [
        "# remove cabin columns\n",
        "train_df.drop(columns=[\"Cabin\"], inplace=True)\n",
        "\n",
        "# remove rows with missing Age/Embarked values\n",
        "train_df.dropna(axis=0, inplace=True)\n",
        "\n",
        "train_df.reset_index(inplace=True)\n",
        "\n",
        "# check shape of data after removing those rows/cols\n",
        "train_df.shape"
      ],
      "execution_count": null,
      "outputs": []
    },
    {
      "cell_type": "markdown",
      "metadata": {
        "id": "hoaneQrSQe5F"
      },
      "source": [
        "Similar to the home price data, let's see what the mutual information is for all of the predictors. We'll again have to convert categorial/string data to numerical values."
      ]
    },
    {
      "cell_type": "code",
      "metadata": {
        "id": "-e1nbOcLQe5F"
      },
      "source": [
        "# Copy features and targets over to X, y, respectively\n",
        "X = train_df.copy()\n",
        "y = X.pop(\"Survived\")\n",
        "\n",
        "# Encoding categoricals\n",
        "for colname in X.select_dtypes('object').columns:\n",
        "    X[colname], _ = X[colname].factorize()\n",
        "\n",
        "# As before with the home prices, let's get mutual information plot results\n",
        "mi_scores = make_mi_scores(X, y)#, discrete_features)\n",
        "plt.figure(dpi=100, figsize=(5, 3))\n",
        "plot_mi_scores(mi_scores)"
      ],
      "execution_count": null,
      "outputs": []
    },
    {
      "cell_type": "markdown",
      "metadata": {
        "id": "MCuFEAV4Qe5G"
      },
      "source": [
        "It's important to be careful with the mutual information results. Sometimes features that appear to have a relationship are not as useful as they seem because they themselves may have a relationship with a different feature, or may present some form of data leakage.\n",
        "\n",
        "For example, `index`, although neglible, appears to have a relationship with survival, which may indicate that the order of the observations in the dataset may be related to survival status in some way. It is not a feature that we would want to use for making predictions, however. `PassengerId` is similar. We can verify that there is no obvious relationship with a simple plot below."
      ]
    },
    {
      "cell_type": "code",
      "metadata": {
        "id": "4ncQkQjcQe5G"
      },
      "source": [
        "fig, (ax1, ax2) = plt.subplots(1, 2, figsize=(8,3))\n",
        "ax1.scatter(X.index, y, alpha=0.2)\n",
        "ax1.set_title('Survival ~ index')\n",
        "ax2.scatter(X.PassengerId, y, alpha=0.2)\n",
        "ax2.set_title('Survival ~ PassengerId')"
      ],
      "execution_count": null,
      "outputs": []
    },
    {
      "cell_type": "markdown",
      "metadata": {
        "id": "eMiuGGGuQe5G"
      },
      "source": [
        "In addition to those two, we'll also drop `Ticket` and `Name` from our set of features."
      ]
    },
    {
      "cell_type": "code",
      "metadata": {
        "id": "Shc2z7R7Qe5G"
      },
      "source": [
        "X.drop(columns=[\"index\", \"PassengerId\", \"Name\", \"Ticket\"], inplace=True)"
      ],
      "execution_count": null,
      "outputs": []
    },
    {
      "cell_type": "markdown",
      "metadata": {
        "id": "Jg8FTfqYQe5I"
      },
      "source": [
        "### 2. Modeling with RandomForest\n",
        "\n",
        "To model this data we will use the most common _go-to_ ML model in Data Science/ML, which is the Random Forest model. The advantages of an RF model is that it is relatively quick and easy to fit/train (as opposed to some other ML models, particularly NNs), but that it is still flexible/sophisticated enough to be able to capture complex non-linear relationships (as opposed to linear models).\n",
        "\n",
        "As you can imagine from the name, a RF is a collection of individual decision trees. We saw before that a decision tree model can easily overfit the data, whereas if we have a collection of independent decision trees, then we have another way to mitigate it (but overfitting is still possible!). RFs still often lead to high predictive power though, given that they are based on a collection of trees. In general, a collection of predictive models is known as an _ensemble_.\n",
        "\n",
        "We won't go into too much more detail with the inner workings of RFs, but if  you are curious they are well worth looking at. Although not the first paper on RFs, the [foundational paper by Breiman, L.](https://link.springer.com/article/10.1023%2FA%3A1010933404324) discusses the boostrapping approach used, and it's publication coincides with the rise of Data Science in the early 2000's."
      ]
    },
    {
      "cell_type": "code",
      "metadata": {
        "id": "NecS_JN2Qe5I"
      },
      "source": [
        "from sklearn.ensemble import RandomForestClassifier\n",
        "\n",
        "rf_model = RandomForestClassifier()\n",
        "rf_model.fit(X, y)\n",
        "y_pred = rf_model.predict_proba(X)\n",
        "\n",
        "# Plot the predictions side-by-side with the actual values\n",
        "# Note: a perfect model would yield the identity, y=x\n",
        "plt.scatter(y, y_pred[:,1], alpha=0.3)\n",
        "plt.xlabel('y actual')\n",
        "plt.ylabel('y predicted (probability)')\n",
        "plt.plot([0,1],[0.5,0.5], c='k', alpha=0.2)\n",
        "plt.show()"
      ],
      "execution_count": null,
      "outputs": []
    },
    {
      "cell_type": "markdown",
      "metadata": {
        "id": "oaEbSJDcQe5I"
      },
      "source": [
        "As can be seen above, this model fits fairly well. The figure above shows the binary outcomes (survival = 1) on the x-axis, and the predicted probability of surival on the y-axis. Note that the latter of these is not binary but is instead a probability, so a continuous value in $[0, 1]$.\n",
        "\n",
        "Note that for classification problems we ultimately want to have a binary prediction. However, as we can see in the plot above, our model outputs a predicted probability. It's up to us to determine what the threshold should be to make a positive or negative prediction. Oftentimes the default choice is to use a threshold of 0.5 (see the gray horizontal line above), but there may be cases when you'll want to choose another threshold."
      ]
    },
    {
      "cell_type": "markdown",
      "metadata": {
        "id": "hwszhjtXQe5I"
      },
      "source": [
        "### 3. Loss functions\n",
        "\n",
        "Before we looked at the mean-squared error (MSE) as a loss function. The loss function, or sometimes more generally referred to as an objective function, is what is generally used to fit the model. That is, it is the function that we optimize to find the ideal values of the model's parameters or weights/biases. (Note that the terms _parameters_ and _weights_ can often have different meanings within the fields of Statistics vs Machine Learning.)\n",
        "\n",
        "MSE makes sense for regression problems when we have a continuous outcome. It can still be used in classification problems as well, since our models will generally predict a continuous probability between $[0, 1]$. So it's useful to know how the MSE is defined, which is as follows.\n",
        "\n",
        "__Mean-squared Error__\n",
        "\n",
        "$MSE(y, \\hat{y}) = \\frac{1}{n} \\sum_i (y_i - \\hat{y}_i)^2$\n",
        "\n",
        "When working with targets/outcomes that are categorical or discrete in nature there is another type of loss function that is commonly used, which is Cross-Entropy. Note that this can be used both for binary outcomes as well as multi-class outcomes.\n",
        "\n",
        "__Cross Entropy__\n",
        "\n",
        "$CE(y, \\hat{y}) = - \\sum_i y_i * \\mathrm{log}(\\hat{y}_i)$\n",
        "\n",
        "Let's calculate each of these now for our trained RF model."
      ]
    },
    {
      "cell_type": "code",
      "metadata": {
        "id": "jn3KJuWaQe5J"
      },
      "source": [
        "# Calculate mean-squared error and binary cross entropy\n",
        "rf_mse = (((y - y_pred[:,1])**2).mean())\n",
        "print(\"mse: \", rf_mse)\n",
        "\n",
        "yhat = y_pred[:,1]\n",
        "\n",
        "# Calculate BCE manually\n",
        "def bce(y_obs, y_prd):\n",
        "    p0 = np.sum((1.00 - y_obs[y_obs == 0].to_numpy()) * np.log(1.00 - y_prd[y_obs == 0]))\n",
        "    p1 = np.sum(y_obs[y_obs == 1].to_numpy() * np.log(y_prd[y_obs == 1]))\n",
        "    return -1 * (p1 + p0)\n",
        "\n",
        "print(\"bce: \", bce(y, yhat))"
      ],
      "execution_count": null,
      "outputs": []
    },
    {
      "cell_type": "markdown",
      "metadata": {
        "id": "cDhwpmaIQe5J"
      },
      "source": [
        "### 4. Tuning hyperparameters\n",
        "\n",
        "As we now know, it's difficult to say whether this is a good value of the loss function. We have no other model to compare it to. Also, we have no validation/test set, so even if it the loss is low we don't know if there is overfitting going on.\n",
        "\n",
        "Let's create a train and test set as we did before.\n",
        "\n",
        "Furthermore, let's look at one of the hyperparameters for a RF model. As we said, RF models are often used because they generally don't require too much finetuning. But, there still are hyperparameters that can affect how well the model is able to generalize to new data.\n",
        "\n",
        "To accomplish this let's also right a function that will a) create the RF model, b) fit the model, and c) calculate the loss."
      ]
    },
    {
      "cell_type": "code",
      "metadata": {
        "id": "6U8cu6b4Qe5J"
      },
      "source": [
        "# Create train and test splits\n",
        "X_train, X_val, y_train, y_val = train_test_split(X, y, train_size=0.80, random_state=1)\n",
        "\n",
        "# A function to create and fit a RF with a specific number of trees\n",
        "def fitRFModel(min_samples_split_hyper_param):\n",
        "    rf_model = RandomForestClassifier(min_samples_split=min_samples_split_hyper_param, random_state=1)\n",
        "    rf_model.fit(X_train, y_train)\n",
        "    y_train_pred = rf_model.predict_proba(X_train)[:,1]\n",
        "    y_val_pred = rf_model.predict_proba(X_val)[:,1]\n",
        "    train_loss = bce(y_train, y_train_pred) #F.binary_cross_entropy(torch.tensor(y_train_pred), torch.tensor(y_train.to_numpy().astype(float)), reduction=\"mean\")\n",
        "    val_loss = bce(y_val, y_val_pred) #F.binary_cross_entropy(torch.tensor(y_val_pred), torch.tensor(y_val.to_numpy().astype(float)), reduction=\"mean\")\n",
        "    return((train_loss.item(), val_loss.item()))\n",
        "\n",
        "# Possible values of min_samples_split are 10 to 70 (by 5)\n",
        "hyp_param_vals = list(range(10,71,5))\n",
        "losses = []\n",
        "for hp in hyp_param_vals:\n",
        "    losses.append(fitRFModel(hp))"
      ],
      "execution_count": null,
      "outputs": []
    },
    {
      "cell_type": "markdown",
      "metadata": {
        "id": "n3IR-YSkQe5J"
      },
      "source": [
        "Let's now create a plot with the values of the min samples per leaf hyperparameter, `min_samples_leaf`, on the x-axis and the values of the loss function on the y-axis."
      ]
    },
    {
      "cell_type": "code",
      "metadata": {
        "id": "YVe17eCzQe5K"
      },
      "source": [
        "fig = plt.figure()\n",
        "ax = fig.add_axes([0, 0, 1, 1]) #.1, 0.1, 0.8, 0.8]) # main axes\n",
        "ax.plot(hyp_param_vals, [loss[1] for loss in losses], '--ro') # validattion loss\n",
        "ax.plot(hyp_param_vals, [loss[0] for loss in losses], '--bo') # training loss\n",
        "ax.legend([\"Validation Loss\", \"Train Loss\"])\n",
        "ax.set_xticks(hyp_param_vals)\n",
        "plt.show()"
      ],
      "execution_count": null,
      "outputs": []
    },
    {
      "cell_type": "markdown",
      "metadata": {
        "id": "KxkkgLn2Qe5K"
      },
      "source": [
        "Starting on the left, at `min_samples_split=10`, we can conclude from the extremely low training loss and (relatively) high test/validation loss that  the model overfits there. Based on this plot it looks like the best value (that minimizes the validation loss) is around `min_samples_split=35`. You can verify this by commenting out the line above that plots the training loss so that only the test loss is shown.\n",
        "\n",
        "Note, however, that the validation loss does not really vary all that much. This is precisely the reason why Random Forests are so often the first model that Data Scientists and engineers will look to - because they often don't require much finetuning! That is to say, changing the hyperparameter values often has little impact on how well the model generalizes beyond the training data. You can see this by playing with other hyperparameter values such as, `n_estimators`, which sets how many decision trees are in the RF. Try changing the code above to explore how the loss varies when `n_estimators` changes (the default value for `n_estimators` is 100, so that is a good place to start).\n",
        "\n",
        "### 5. Training vs Validation vs Test\n",
        "\n",
        "We have used the terms _test_ and _validation_ interchangeably up until now. In practice there is a difference between them. The training dataset is, of course, used to train or fit the model itself. The validation and test datasets, however, are distinct subsets of the data that we hold out from the training. The validation dataset is used to help tune the hyperparameters, similar to as we did above. The test dataset is held out until the very end; that is, it is never used to make any decisions about how the model is trained or tuned. We imagine that the test dataset represents real-world data that our model has never before seen.\n",
        "\n",
        "A great example of a training, validation, and test dataset each being used is simply a Kaggle competition. Participants in a Kaggle competition have access to a single dataset, which they are individually responsible for splitting into a training and validation set in the way they deem best. Then, at the end of the competition, there is a test dataset that no participant had access to until that point. The test dataset is entirely new, and the participants models must make the best predictions possible using only the original training (and validation) dataset that they had access to earlier."
      ]
    },
    {
      "cell_type": "markdown",
      "metadata": {
        "id": "ktdGr6YNQe5K"
      },
      "source": [
        "### 6. Other Performance Metrics/Measures\n",
        "\n",
        "We have looked at loss functions as a way to measure the performance of our models, although their primary function is as the objective function in the optimization problem addressed when training/fitting a model. There are other performance metrics, particularly for classification, that are more intuitive for us to think about.\n",
        "\n",
        "The first of these is _accuracy_, which is simply the proportion of time that the model predicts the correct class. As an example, consider the same train and validation split above, and a RF model (with `min_samples_split=35`). The predicted probabilities for the validation dataset are shown below. Points shown in blue are correctly classified, while points shown in red are incorrectly classified.\n"
      ]
    },
    {
      "cell_type": "code",
      "metadata": {
        "id": "Q8z9166WQe5K"
      },
      "source": [
        "rf_model = RandomForestClassifier(min_samples_split=35, random_state=1)\n",
        "rf_model.fit(X_train, y_train)\n",
        "y_train_pred = rf_model.predict_proba(X_train)[:,1]\n",
        "y_val_pred = rf_model.predict_proba(X_val)[:,1]\n",
        "\n",
        "y_color = ['b' if (y_val_pred[i] > 0.5 and y_val.to_numpy()[i] == 1) or (y_val_pred[i] < 0.5 and y_val.to_numpy()[i] == 0) else 'r' for i in list(range(len(y_val)))]\n",
        "\n",
        "plt.scatter(y_val, y_val_pred, alpha=0.3, c=y_color, s=100)\n",
        "plt.xlabel('y actual')\n",
        "plt.ylabel('y predicted (probability)')\n",
        "plt.plot([0,1],[0.5,0.5], c='k', alpha=0.2)\n",
        "plt.show()\n"
      ],
      "execution_count": null,
      "outputs": []
    },
    {
      "cell_type": "markdown",
      "metadata": {
        "id": "h1MiO81kQe5K"
      },
      "source": [
        "The same data depicted in the graph above is often communicated in a _confusion matrix_. For a binary classification problem the confusion matrix is simply a 2x2 matrix with the number of predicted vs actual outcomes. More generally, for a classification problem with $k$ classes, the confusion matrix will be $kxk$."
      ]
    },
    {
      "cell_type": "code",
      "metadata": {
        "id": "K39SqdyJQe5L"
      },
      "source": [
        "from sklearn.metrics import confusion_matrix, ConfusionMatrixDisplay\n",
        "\n",
        "y_pred = rf_model.predict(X_val)\n",
        "cm = confusion_matrix(y_val, y_pred)\n",
        "\n",
        "disp = ConfusionMatrixDisplay(confusion_matrix=cm, display_labels=[0,1])\n",
        "disp.plot()"
      ],
      "execution_count": null,
      "outputs": []
    },
    {
      "cell_type": "markdown",
      "metadata": {
        "id": "p7Cf81BuQe5L"
      },
      "source": [
        "__Accuracy__\n",
        "\n",
        "Accuracy is straightforward to calculate from the confusion matrix - it is simply the ratio of correctly classified cases/observations to the total number of cases/observations.\n",
        "\n",
        "From the confusion matrix above we see that $76$ negative cases were correctly predicted to be negative (i.e. \"_true negatives_\"), while $34$ positive cases were correctly predicted to be positive (i.e. \"_true positives_\"), for a total of $110$ correctly predicted cases. The total number of cases in the validation dataset was $76 + 9 + 24 + 34 = 143$, yielding:\n",
        "\n",
        "* $\\mathrm{Accuracy} = 110 / 143 = 0.7692$\n",
        "\n",
        "__Precision and Recall__\n",
        "\n",
        "Accuracy works well in scenarios when the number of negative and positive cases are roughly balanced. However, when the proportion of negative to postive cases is skewed one way or the other, then accuracy is not the ideal performance measure. As an example, consider a scenario in which the proportion of positive cases in the data is very small (e.g. example could be trying to predict a rare disease, or flagging malicious content on a website, etc.). In scenarios such as this, then if the true proportion of positive cases is 0.01, then even a model that predicts every case to be negative will still have accuracy of 0.99.\n",
        "\n",
        "To overcome this deficiency of accuracy we can look to other performance metrics such as _precision_ and _recall_.\n",
        "\n",
        "Precision is the number of correctly predicted positive cases among all of the cases that were predicted as being positive.\n",
        "\n",
        "* $\\mathrm{precision} = \\frac{TP}{TP + FP}$\n",
        "\n",
        "Recall, also known as sensitivity, is the proportion of all observed positive cases that were predicted to be positive by the model.\n",
        "\n",
        "* $\\mathrm{recall} = \\frac{TP}{TP + FN}$\n",
        "\n",
        "The _F1 score_ is the combination precision and recall and is often the preferred performance metric for data with a very low proportion of positive (or negative) cases.\n",
        "\n",
        "* $\\mathrm{F}_1 = 2 * \\frac{precision * recall}{precision + recall}$\n"
      ]
    },
    {
      "cell_type": "markdown",
      "metadata": {
        "id": "pWzMn_wvQe5L"
      },
      "source": [
        "### 7. Model interpretability\n",
        "\n",
        "We looked at the mutual information of each feature with the target variable earlier. However, the features that end up being most influential in a trained model can often vary from those results. This is because pre-modeling feature explorations, such as teh mutual information we looked at, are done pairwise and independent of the other features. It can sometimes be the case that a feature is more important when used immedi"
      ]
    },
    {
      "cell_type": "code",
      "metadata": {
        "id": "kCmKV6XyQe5L"
      },
      "source": [
        "rf_model = RandomForestClassifier(min_samples_split=35, random_state=1)\n",
        "rf_model.fit(X_train, y_train)\n",
        "importances = rf_model.feature_importances_\n",
        "std = np.std([tree.feature_importances_ for tree in rf_model.estimators_], axis=0)\n",
        "\n",
        "forest_importances = pd.Series(importances, index=X_train.columns)\n",
        "forest_importances.sort_values(ascending=True, inplace=True)\n",
        "\n",
        "fig, ax = plt.subplots()\n",
        "forest_importances.plot.barh(xerr=std, ax=ax)\n",
        "ax.set_title(\"Feature importances using MDI\")\n",
        "ax.set_ylabel(\"Mean decrease in impurity\")\n",
        "fig.tight_layout()"
      ],
      "execution_count": null,
      "outputs": []
    },
    {
      "cell_type": "markdown",
      "metadata": {
        "id": "ztwjfbbXQe5M"
      },
      "source": [
        "## Further Reading\n",
        "\n",
        "If you are interested in learning more about any of the above material, the following short courses on Kaggle are another resource.  \n",
        "\n",
        "* Pandas - [https://www.kaggle.com/learn/pandas]()\n",
        "* Intro to ML - [https://www.kaggle.com/learn/intro-to-machine-learning]()\n",
        "* Feature Engineering - [https://www.kaggle.com/learn/feature-engineering]()\n",
        "* Intermediate ML - [https://www.kaggle.com/learn/intermediate-machine-learning]()\n"
      ]
    },
    {
      "cell_type": "markdown",
      "metadata": {
        "id": "omH5b_koQe5M"
      },
      "source": []
    }
  ]
}